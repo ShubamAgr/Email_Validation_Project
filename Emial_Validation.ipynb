{
  "nbformat": 4,
  "nbformat_minor": 0,
  "metadata": {
    "colab": {
      "name": "Emial_Validation.ipynb",
      "provenance": [],
      "collapsed_sections": []
    },
    "kernelspec": {
      "name": "python3",
      "display_name": "Python 3"
    },
    "language_info": {
      "name": "python"
    }
  },
  "cells": [
    {
      "cell_type": "markdown",
      "source": [
        "#### Stage 1- Register"
      ],
      "metadata": {
        "id": "F_v7zCRjCXTc"
      }
    },
    {
      "cell_type": "code",
      "source": [
        "# Importing all necessary packages\n",
        "import pandas as pd\n",
        "import re"
      ],
      "metadata": {
        "id": "1EDH43xKrGct"
      },
      "execution_count": null,
      "outputs": []
    },
    {
      "cell_type": "code",
      "execution_count": null,
      "metadata": {
        "colab": {
          "base_uri": "https://localhost:8080/"
        },
        "id": "31moZEqWB7ys",
        "outputId": "68504463-b507-4acf-dfb3-8ac3481df38e"
      },
      "outputs": [
        {
          "output_type": "stream",
          "name": "stdout",
          "text": [
            "Please enter your Email ID: myname123@gmail.com\n",
            "Email ID Validated\n"
          ]
        }
      ],
      "source": [
        "# Validating user's id according to described pattern using regular expression\n",
        "email_format='^[a-z A-Z]+[0-9 a-z A-Z]*[@][a-z A-Z]+[.][a-z A-Z]{2,3}$'\n",
        "while True:\n",
        "  email=input(\"Please enter your Email ID: \")\n",
        "  if re.search(email_format,email):\n",
        "    print(\"Email ID Validated\")\n",
        "    break\n",
        "  else:\n",
        "    print(\"Please Enter a Valid Email ID\")"
      ]
    },
    {
      "cell_type": "code",
      "source": [
        "# Validating user's password according to given pattern using regular expression\n",
        "pass_format=re.compile(r'')\n",
        "while True:\n",
        "  password=input(\"Enter password: \")\n",
        "  if(len(password)<=5 or len(password)>=16):\n",
        "    print('Password must contain character length between 6 to 15')\n",
        "  elif re.search(r'\\d', password) is None:\n",
        "    print(\"Password must contain atleast one digit\")\n",
        "  elif re.search(r'[A-Z]',password) is None:\n",
        "    print(\"Password must contain atleast one uppercase charachter\")\n",
        "  elif re.search(r'[a-z]',password) is None:\n",
        "    print(\"Password must contain atleast one lowercase charachter\")  \n",
        "  elif re.search(r'[!@#$%^&*]', password) is None:\n",
        "    print(\"Password must contain atleast one special character\")\n",
        "  elif re.match(r'[a-z A-Z 0-9 !@#$%^&*]{6,15}',password):\n",
        "    print(\"Password Validated\")\n",
        "    break"
      ],
      "metadata": {
        "colab": {
          "base_uri": "https://localhost:8080/"
        },
        "id": "uP1ZnUM0sjuK",
        "outputId": "956236bf-fbd7-46d8-ea99-a7d510f47346"
      },
      "execution_count": null,
      "outputs": [
        {
          "output_type": "stream",
          "name": "stdout",
          "text": [
            "Enter password: uraname\n",
            "Password must contain atleast one digit\n",
            "Enter password: urname123\n",
            "Password must contain atleast one uppercase charachter\n",
            "Enter password: URname123\n",
            "Password must contain atleast one special character\n",
            "Enter password: URname123#\n",
            "Password Validated\n"
          ]
        }
      ]
    },
    {
      "cell_type": "markdown",
      "source": [
        "#### Stage 2- Registering in xlsx file"
      ],
      "metadata": {
        "id": "-GS0fDw1nbMg"
      }
    },
    {
      "cell_type": "code",
      "source": [
        "#Importing excel using pandas \n",
        "df1=pd.read_excel('User_Mail_Registry.xlsx')\n",
        "df1"
      ],
      "metadata": {
        "colab": {
          "base_uri": "https://localhost:8080/",
          "height": 175
        },
        "id": "wOcZzzpO4awk",
        "outputId": "654ecab7-2a22-4861-c34c-8303e25a3521"
      },
      "execution_count": null,
      "outputs": [
        {
          "output_type": "execute_result",
          "data": {
            "text/plain": [
              "                   Email       Password\n",
              "0        hello@gmail.com         Inc21@\n",
              "1     kingkhan@yahoo.com        SrK007*\n",
              "2       suresh@rediff.in      Ramesh88#\n",
              "3  nikhil.garg@gmail.com  helloWorld01$"
            ],
            "text/html": [
              "\n",
              "  <div id=\"df-e4441935-5986-402d-9be7-f7b99d540b6a\">\n",
              "    <div class=\"colab-df-container\">\n",
              "      <div>\n",
              "<style scoped>\n",
              "    .dataframe tbody tr th:only-of-type {\n",
              "        vertical-align: middle;\n",
              "    }\n",
              "\n",
              "    .dataframe tbody tr th {\n",
              "        vertical-align: top;\n",
              "    }\n",
              "\n",
              "    .dataframe thead th {\n",
              "        text-align: right;\n",
              "    }\n",
              "</style>\n",
              "<table border=\"1\" class=\"dataframe\">\n",
              "  <thead>\n",
              "    <tr style=\"text-align: right;\">\n",
              "      <th></th>\n",
              "      <th>Email</th>\n",
              "      <th>Password</th>\n",
              "    </tr>\n",
              "  </thead>\n",
              "  <tbody>\n",
              "    <tr>\n",
              "      <th>0</th>\n",
              "      <td>hello@gmail.com</td>\n",
              "      <td>Inc21@</td>\n",
              "    </tr>\n",
              "    <tr>\n",
              "      <th>1</th>\n",
              "      <td>kingkhan@yahoo.com</td>\n",
              "      <td>SrK007*</td>\n",
              "    </tr>\n",
              "    <tr>\n",
              "      <th>2</th>\n",
              "      <td>suresh@rediff.in</td>\n",
              "      <td>Ramesh88#</td>\n",
              "    </tr>\n",
              "    <tr>\n",
              "      <th>3</th>\n",
              "      <td>nikhil.garg@gmail.com</td>\n",
              "      <td>helloWorld01$</td>\n",
              "    </tr>\n",
              "  </tbody>\n",
              "</table>\n",
              "</div>\n",
              "      <button class=\"colab-df-convert\" onclick=\"convertToInteractive('df-e4441935-5986-402d-9be7-f7b99d540b6a')\"\n",
              "              title=\"Convert this dataframe to an interactive table.\"\n",
              "              style=\"display:none;\">\n",
              "        \n",
              "  <svg xmlns=\"http://www.w3.org/2000/svg\" height=\"24px\"viewBox=\"0 0 24 24\"\n",
              "       width=\"24px\">\n",
              "    <path d=\"M0 0h24v24H0V0z\" fill=\"none\"/>\n",
              "    <path d=\"M18.56 5.44l.94 2.06.94-2.06 2.06-.94-2.06-.94-.94-2.06-.94 2.06-2.06.94zm-11 1L8.5 8.5l.94-2.06 2.06-.94-2.06-.94L8.5 2.5l-.94 2.06-2.06.94zm10 10l.94 2.06.94-2.06 2.06-.94-2.06-.94-.94-2.06-.94 2.06-2.06.94z\"/><path d=\"M17.41 7.96l-1.37-1.37c-.4-.4-.92-.59-1.43-.59-.52 0-1.04.2-1.43.59L10.3 9.45l-7.72 7.72c-.78.78-.78 2.05 0 2.83L4 21.41c.39.39.9.59 1.41.59.51 0 1.02-.2 1.41-.59l7.78-7.78 2.81-2.81c.8-.78.8-2.07 0-2.86zM5.41 20L4 18.59l7.72-7.72 1.47 1.35L5.41 20z\"/>\n",
              "  </svg>\n",
              "      </button>\n",
              "      \n",
              "  <style>\n",
              "    .colab-df-container {\n",
              "      display:flex;\n",
              "      flex-wrap:wrap;\n",
              "      gap: 12px;\n",
              "    }\n",
              "\n",
              "    .colab-df-convert {\n",
              "      background-color: #E8F0FE;\n",
              "      border: none;\n",
              "      border-radius: 50%;\n",
              "      cursor: pointer;\n",
              "      display: none;\n",
              "      fill: #1967D2;\n",
              "      height: 32px;\n",
              "      padding: 0 0 0 0;\n",
              "      width: 32px;\n",
              "    }\n",
              "\n",
              "    .colab-df-convert:hover {\n",
              "      background-color: #E2EBFA;\n",
              "      box-shadow: 0px 1px 2px rgba(60, 64, 67, 0.3), 0px 1px 3px 1px rgba(60, 64, 67, 0.15);\n",
              "      fill: #174EA6;\n",
              "    }\n",
              "\n",
              "    [theme=dark] .colab-df-convert {\n",
              "      background-color: #3B4455;\n",
              "      fill: #D2E3FC;\n",
              "    }\n",
              "\n",
              "    [theme=dark] .colab-df-convert:hover {\n",
              "      background-color: #434B5C;\n",
              "      box-shadow: 0px 1px 3px 1px rgba(0, 0, 0, 0.15);\n",
              "      filter: drop-shadow(0px 1px 2px rgba(0, 0, 0, 0.3));\n",
              "      fill: #FFFFFF;\n",
              "    }\n",
              "  </style>\n",
              "\n",
              "      <script>\n",
              "        const buttonEl =\n",
              "          document.querySelector('#df-e4441935-5986-402d-9be7-f7b99d540b6a button.colab-df-convert');\n",
              "        buttonEl.style.display =\n",
              "          google.colab.kernel.accessAllowed ? 'block' : 'none';\n",
              "\n",
              "        async function convertToInteractive(key) {\n",
              "          const element = document.querySelector('#df-e4441935-5986-402d-9be7-f7b99d540b6a');\n",
              "          const dataTable =\n",
              "            await google.colab.kernel.invokeFunction('convertToInteractive',\n",
              "                                                     [key], {});\n",
              "          if (!dataTable) return;\n",
              "\n",
              "          const docLinkHtml = 'Like what you see? Visit the ' +\n",
              "            '<a target=\"_blank\" href=https://colab.research.google.com/notebooks/data_table.ipynb>data table notebook</a>'\n",
              "            + ' to learn more about interactive tables.';\n",
              "          element.innerHTML = '';\n",
              "          dataTable['output_type'] = 'display_data';\n",
              "          await google.colab.output.renderOutput(dataTable, element);\n",
              "          const docLink = document.createElement('div');\n",
              "          docLink.innerHTML = docLinkHtml;\n",
              "          element.appendChild(docLink);\n",
              "        }\n",
              "      </script>\n",
              "    </div>\n",
              "  </div>\n",
              "  "
            ]
          },
          "metadata": {},
          "execution_count": 8
        }
      ]
    },
    {
      "cell_type": "code",
      "source": [
        "#Adding user's ID and password to the database for later registration validation\n",
        "df2=pd.DataFrame({'Email':[email],\"Password\":[password]})\n",
        "df=pd.concat([df1,df2],ignore_index=True)\n",
        "df.to_excel('reg.xlsx')"
      ],
      "metadata": {
        "id": "9IazUb1wN7Dl"
      },
      "execution_count": null,
      "outputs": []
    },
    {
      "cell_type": "code",
      "source": [
        "df.head()"
      ],
      "metadata": {
        "colab": {
          "base_uri": "https://localhost:8080/",
          "height": 206
        },
        "id": "5DyvX92y6kqv",
        "outputId": "90e74f22-4f5e-49a1-f131-2d0da97e9d3c"
      },
      "execution_count": null,
      "outputs": [
        {
          "output_type": "execute_result",
          "data": {
            "text/plain": [
              "                   Email       Password\n",
              "0        hello@gmail.com         Inc21@\n",
              "1     kingkhan@yahoo.com        SrK007*\n",
              "2       suresh@rediff.in      Ramesh88#\n",
              "3  nikhil.garg@gmail.com  helloWorld01$\n",
              "4    myname123@gmail.com     URname123#"
            ],
            "text/html": [
              "\n",
              "  <div id=\"df-cbd66b52-22db-4d49-b91d-d3ffdce3462a\">\n",
              "    <div class=\"colab-df-container\">\n",
              "      <div>\n",
              "<style scoped>\n",
              "    .dataframe tbody tr th:only-of-type {\n",
              "        vertical-align: middle;\n",
              "    }\n",
              "\n",
              "    .dataframe tbody tr th {\n",
              "        vertical-align: top;\n",
              "    }\n",
              "\n",
              "    .dataframe thead th {\n",
              "        text-align: right;\n",
              "    }\n",
              "</style>\n",
              "<table border=\"1\" class=\"dataframe\">\n",
              "  <thead>\n",
              "    <tr style=\"text-align: right;\">\n",
              "      <th></th>\n",
              "      <th>Email</th>\n",
              "      <th>Password</th>\n",
              "    </tr>\n",
              "  </thead>\n",
              "  <tbody>\n",
              "    <tr>\n",
              "      <th>0</th>\n",
              "      <td>hello@gmail.com</td>\n",
              "      <td>Inc21@</td>\n",
              "    </tr>\n",
              "    <tr>\n",
              "      <th>1</th>\n",
              "      <td>kingkhan@yahoo.com</td>\n",
              "      <td>SrK007*</td>\n",
              "    </tr>\n",
              "    <tr>\n",
              "      <th>2</th>\n",
              "      <td>suresh@rediff.in</td>\n",
              "      <td>Ramesh88#</td>\n",
              "    </tr>\n",
              "    <tr>\n",
              "      <th>3</th>\n",
              "      <td>nikhil.garg@gmail.com</td>\n",
              "      <td>helloWorld01$</td>\n",
              "    </tr>\n",
              "    <tr>\n",
              "      <th>4</th>\n",
              "      <td>myname123@gmail.com</td>\n",
              "      <td>URname123#</td>\n",
              "    </tr>\n",
              "  </tbody>\n",
              "</table>\n",
              "</div>\n",
              "      <button class=\"colab-df-convert\" onclick=\"convertToInteractive('df-cbd66b52-22db-4d49-b91d-d3ffdce3462a')\"\n",
              "              title=\"Convert this dataframe to an interactive table.\"\n",
              "              style=\"display:none;\">\n",
              "        \n",
              "  <svg xmlns=\"http://www.w3.org/2000/svg\" height=\"24px\"viewBox=\"0 0 24 24\"\n",
              "       width=\"24px\">\n",
              "    <path d=\"M0 0h24v24H0V0z\" fill=\"none\"/>\n",
              "    <path d=\"M18.56 5.44l.94 2.06.94-2.06 2.06-.94-2.06-.94-.94-2.06-.94 2.06-2.06.94zm-11 1L8.5 8.5l.94-2.06 2.06-.94-2.06-.94L8.5 2.5l-.94 2.06-2.06.94zm10 10l.94 2.06.94-2.06 2.06-.94-2.06-.94-.94-2.06-.94 2.06-2.06.94z\"/><path d=\"M17.41 7.96l-1.37-1.37c-.4-.4-.92-.59-1.43-.59-.52 0-1.04.2-1.43.59L10.3 9.45l-7.72 7.72c-.78.78-.78 2.05 0 2.83L4 21.41c.39.39.9.59 1.41.59.51 0 1.02-.2 1.41-.59l7.78-7.78 2.81-2.81c.8-.78.8-2.07 0-2.86zM5.41 20L4 18.59l7.72-7.72 1.47 1.35L5.41 20z\"/>\n",
              "  </svg>\n",
              "      </button>\n",
              "      \n",
              "  <style>\n",
              "    .colab-df-container {\n",
              "      display:flex;\n",
              "      flex-wrap:wrap;\n",
              "      gap: 12px;\n",
              "    }\n",
              "\n",
              "    .colab-df-convert {\n",
              "      background-color: #E8F0FE;\n",
              "      border: none;\n",
              "      border-radius: 50%;\n",
              "      cursor: pointer;\n",
              "      display: none;\n",
              "      fill: #1967D2;\n",
              "      height: 32px;\n",
              "      padding: 0 0 0 0;\n",
              "      width: 32px;\n",
              "    }\n",
              "\n",
              "    .colab-df-convert:hover {\n",
              "      background-color: #E2EBFA;\n",
              "      box-shadow: 0px 1px 2px rgba(60, 64, 67, 0.3), 0px 1px 3px 1px rgba(60, 64, 67, 0.15);\n",
              "      fill: #174EA6;\n",
              "    }\n",
              "\n",
              "    [theme=dark] .colab-df-convert {\n",
              "      background-color: #3B4455;\n",
              "      fill: #D2E3FC;\n",
              "    }\n",
              "\n",
              "    [theme=dark] .colab-df-convert:hover {\n",
              "      background-color: #434B5C;\n",
              "      box-shadow: 0px 1px 3px 1px rgba(0, 0, 0, 0.15);\n",
              "      filter: drop-shadow(0px 1px 2px rgba(0, 0, 0, 0.3));\n",
              "      fill: #FFFFFF;\n",
              "    }\n",
              "  </style>\n",
              "\n",
              "      <script>\n",
              "        const buttonEl =\n",
              "          document.querySelector('#df-cbd66b52-22db-4d49-b91d-d3ffdce3462a button.colab-df-convert');\n",
              "        buttonEl.style.display =\n",
              "          google.colab.kernel.accessAllowed ? 'block' : 'none';\n",
              "\n",
              "        async function convertToInteractive(key) {\n",
              "          const element = document.querySelector('#df-cbd66b52-22db-4d49-b91d-d3ffdce3462a');\n",
              "          const dataTable =\n",
              "            await google.colab.kernel.invokeFunction('convertToInteractive',\n",
              "                                                     [key], {});\n",
              "          if (!dataTable) return;\n",
              "\n",
              "          const docLinkHtml = 'Like what you see? Visit the ' +\n",
              "            '<a target=\"_blank\" href=https://colab.research.google.com/notebooks/data_table.ipynb>data table notebook</a>'\n",
              "            + ' to learn more about interactive tables.';\n",
              "          element.innerHTML = '';\n",
              "          dataTable['output_type'] = 'display_data';\n",
              "          await google.colab.output.renderOutput(dataTable, element);\n",
              "          const docLink = document.createElement('div');\n",
              "          docLink.innerHTML = docLinkHtml;\n",
              "          element.appendChild(docLink);\n",
              "        }\n",
              "      </script>\n",
              "    </div>\n",
              "  </div>\n",
              "  "
            ]
          },
          "metadata": {},
          "execution_count": 10
        }
      ]
    },
    {
      "cell_type": "markdown",
      "source": [
        "#### Stage 3- Login"
      ],
      "metadata": {
        "id": "tWihIevaTNdp"
      }
    },
    {
      "cell_type": "code",
      "source": [
        "# Checking if user has registered email\n",
        "# Retrieval of password via email in case user forgot password\n",
        "l=list(df.Email)\n",
        "m=list(df.Password)\n",
        "flag=0\n",
        "n=int(input(\"If you want to login, press '0': \"))\n",
        "if n==0:\n",
        "  em=input(\"Please Enter your Email ID: \")\n",
        "  fp=input(\"Do you remember your password (y/n): \")\n",
        "  if fp=='n' or fp=='N':\n",
        "    for i in range(len(l)):\n",
        "      if l[i]==em:\n",
        "        print(\"Your Password is: \",m[i])\n",
        "        flag=1\n",
        "        break\n",
        "    if flag==0:\n",
        "      print(\"Password Not Found, pls try again or Register\")\n",
        "  elif fp=='y' or fp=='Y':\n",
        "    ps=input(\"Please Enter you Password: \")\n",
        "    if em in l:\n",
        "      if ps in m:\n",
        "        print(\"Login Successful\")\n",
        "      else:print(\"Incorrect Password entered, Please Try Again!\")\n",
        "    else:print(\"Incorrect Mail ID entered, Please Try Again!\")\n",
        "  else:print('Wrong Input entered, Please Try Again')\n",
        "else: print(\"To Login, Please Try Again!\")"
      ],
      "metadata": {
        "colab": {
          "base_uri": "https://localhost:8080/"
        },
        "id": "xWSQq_cJMHwQ",
        "outputId": "9428ce4b-aed5-4465-d38c-307ddabc8d17"
      },
      "execution_count": null,
      "outputs": [
        {
          "output_type": "stream",
          "name": "stdout",
          "text": [
            "If you want to login, press '0': 0\n",
            "Please Enter your Email ID: myname123@gmail.com\n",
            "Do you remember your password (y/n): y\n",
            "Please Enter you Password: URname123#\n",
            "Login Successful\n"
          ]
        }
      ]
    }
  ]
}